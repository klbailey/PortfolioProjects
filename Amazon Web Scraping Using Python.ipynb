{
 "cells": [
  {
   "cell_type": "code",
   "execution_count": 1,
   "id": "11157467",
   "metadata": {},
   "outputs": [],
   "source": [
    "#import libraries\n",
    "\n",
    "from bs4 import BeautifulSoup\n",
    "import requests\n",
    "import time\n",
    "import datetime\n",
    "\n",
    "import smtplib"
   ]
  },
  {
   "cell_type": "code",
   "execution_count": 2,
   "id": "704fd1eb",
   "metadata": {},
   "outputs": [
    {
     "name": "stdout",
     "output_type": "stream",
     "text": [
      "\n",
      "                   Funny Got Data MIS Data Systems Business Analyst T-Shirt\n",
      "                  \n",
      "\n",
      "\n",
      "\n",
      "\n",
      "\n",
      "                  $16.99\n",
      "                 \n",
      "\n",
      "\n",
      "                   $\n",
      "                  \n",
      "\n",
      "                   16\n",
      "                   \n",
      "                    .\n",
      "                   \n",
      "\n",
      "\n",
      "                   99\n",
      "                  \n",
      "\n",
      "\n",
      "\n",
      "\n",
      "\n",
      "\n",
      "\n",
      "\n",
      "\n",
      "\n",
      "\n",
      "\n"
     ]
    }
   ],
   "source": [
    "#tell program where the data is coming from - connect to website\n",
    "#Find Your User-Agent: https://httpbin.org/get\n",
    "#mine is \"User-Agent\": \"Mozilla/5.0 (Windows NT 10.0; Win64; x64) AppleWebKit/537.36 (KHTML, like Gecko) Chrome/114.0.0.0 Safari/537.36\n",
    "#prettify-makes things look better\n",
    "\n",
    "URL = 'https://www.amazon.com/Funny-Data-Systems-Business-Analyst/dp/B07FNW9FGJ/ref=sr_1_3?dchild=1&keywords=data%2Banalyst%2Btshirt&qid=1626655184&sr=8-3&custom'\n",
    "headers = {\"User-Agent\": \"Mozilla/5.0 (Windows NT 10.0; Win64; x64) AppleWebKit/537.36 (KHTML, like Gecko) Chrome/114.0.0.0 Safari/537.36\",\"Accept-Encoding\":\"gzip, deflate\", \"Accept\":\"text/html,application/xhtml+xml,application/xml;q=0.9,*/*;q=0.8\", \"DNT\":\"1\",\"Connection\":\"close\", \"Upgrade-Insecure-Requests\":\"1\"}\n",
    "\n",
    "page = requests.get(URL, headers=headers)\n",
    "\n",
    "soup1 = BeautifulSoup(page.content, \"html.parser\")\n",
    "\n",
    "soup2 = BeautifulSoup(soup1.prettify(), \"html.parser\")\n",
    "\n",
    "title = soup2.find(id='productTitle').get_text()\n",
    "\n",
    "price = soup2.find(id='corePriceDisplay_desktop_feature_div').get_text()\n",
    "print(title)\n",
    "print(price)"
   ]
  },
  {
   "cell_type": "code",
   "execution_count": 3,
   "id": "e09f6493",
   "metadata": {},
   "outputs": [
    {
     "name": "stdout",
     "output_type": "stream",
     "text": [
      "Funny Got Data MIS Data Systems Business Analyst T-Shirt\n",
      "16.99\n"
     ]
    }
   ],
   "source": [
    "#Yikes, let's clean it up\n",
    "#strip()takes out stuff on either side\n",
    "\n",
    "price = price.replace('\\n', '').replace('\\t', '').replace(' ', '').replace(',', '')\n",
    "price = price.split('$')[1]\n",
    "\n",
    "title = title.strip()\n",
    "\n",
    "print(title)\n",
    "print(price)"
   ]
  },
  {
   "cell_type": "code",
   "execution_count": 14,
   "id": "b1795c6b",
   "metadata": {},
   "outputs": [
    {
     "name": "stdout",
     "output_type": "stream",
     "text": [
      "2023-06-15\n"
     ]
    }
   ],
   "source": [
    "#Get more useful data\n",
    "\n",
    "import datetime\n",
    "today = datetime.date.today()\n",
    "print(today)"
   ]
  },
  {
   "cell_type": "code",
   "execution_count": 15,
   "id": "ec8eb5d0",
   "metadata": {},
   "outputs": [],
   "source": [
    "#create csv with headers\n",
    "\n",
    "import csv\n",
    "header = ['Title', 'Price', 'Date']\n",
    "data = [title, price, today]\n",
    "\n",
    "#with open('AmazonWebScraperDataSet.csv', 'w', newline ='', encoding='UTF8') as f:\n",
    "    #writer = csv.writer(f)\n",
    "    #writer.writerow(header)\n",
    "    #writer.writerow(data)"
   ]
  },
  {
   "cell_type": "code",
   "execution_count": 20,
   "id": "7b646255",
   "metadata": {},
   "outputs": [
    {
     "name": "stdout",
     "output_type": "stream",
     "text": [
      "   Funny Got Data MIS Data Systems Business Analyst T-Shirt  16.99  2023-06-15\n",
      "0   Funny Got Data MIS Data Systems Business Analy...        16.99  2023-06-15\n",
      "1   Funny Got Data MIS Data Systems Business Analy...        16.99  2023-06-15\n",
      "2   Funny Got Data MIS Data Systems Business Analy...        16.99  2023-06-15\n",
      "3   Funny Got Data MIS Data Systems Business Analy...        16.99  2023-06-15\n",
      "4   Funny Got Data MIS Data Systems Business Analy...        16.99  2023-06-15\n",
      "5   Funny Got Data MIS Data Systems Business Analy...        16.99  2023-06-15\n",
      "6   Funny Got Data MIS Data Systems Business Analy...        16.99  2023-06-15\n",
      "7   Funny Got Data MIS Data Systems Business Analy...        16.99  2023-06-15\n",
      "8   Funny Got Data MIS Data Systems Business Analy...        16.99  2023-06-15\n",
      "9   Funny Got Data MIS Data Systems Business Analy...        16.99  2023-06-15\n",
      "10  Funny Got Data MIS Data Systems Business Analy...        16.99  2023-06-15\n",
      "11  Funny Got Data MIS Data Systems Business Analy...        16.99  2023-06-15\n",
      "12  Funny Got Data MIS Data Systems Business Analy...        16.99  2023-06-15\n",
      "13  Funny Got Data MIS Data Systems Business Analy...        16.99  2023-06-15\n",
      "14  Funny Got Data MIS Data Systems Business Analy...        16.99  2023-06-15\n",
      "15  Funny Got Data MIS Data Systems Business Analy...        16.99  2023-06-15\n",
      "16  Funny Got Data MIS Data Systems Business Analy...        16.99  2023-06-15\n",
      "17  Funny Got Data MIS Data Systems Business Analy...        16.99  2023-06-15\n"
     ]
    }
   ],
   "source": [
    "import pandas as pd\n",
    "df = pd.read_csv(r'C:\\Users\\klbai\\AmazonWebScraperDataSet.csv')\n",
    "print(df)"
   ]
  },
  {
   "cell_type": "code",
   "execution_count": 12,
   "id": "19bd497a",
   "metadata": {},
   "outputs": [],
   "source": [
    "#appending data to the csv\n",
    "\n",
    "with open('AmazonWebScraperDataSet.csv', 'a+', newline ='', encoding='UTF8') as f:\n",
    "    writer = csv.writer(f)\n",
    "    writer.writerow(data)"
   ]
  },
  {
   "cell_type": "code",
   "execution_count": 22,
   "id": "d48cf583",
   "metadata": {},
   "outputs": [],
   "source": [
    "#automate; combining above code into one function\n",
    "\n",
    "def check_price():\n",
    "    URL = 'https://www.amazon.com/Funny-Data-Systems-Business-Analyst/dp/B07FNW9FGJ/ref=sr_1_3?dchild=1&keywords=data%2Banalyst%2Btshirt&qid=1626655184&sr=8-3&custom'\n",
    "    \n",
    "    headers = {\"User-Agent\": \"Mozilla/5.0 (Windows NT 10.0; Win64; x64) AppleWebKit/537.36 (KHTML, like Gecko) Chrome/114.0.0.0 Safari/537.36\",\"Accept-Encoding\":\"gzip, deflate\", \"Accept\":\"text/html,application/xhtml+xml,application/xml;q=0.9,*/*;q=0.8\", \"DNT\":\"1\",\"Connection\":\"close\", \"Upgrade-Insecure-Requests\":\"1\"}\n",
    "\n",
    "    page = requests.get(URL, headers=headers)\n",
    "\n",
    "    soup1 = BeautifulSoup(page.content, \"html.parser\")\n",
    "\n",
    "    soup2 = BeautifulSoup(soup1.prettify(), \"html.parser\")\n",
    "\n",
    "    title = soup2.find(id='productTitle').get_text()\n",
    "\n",
    "    price = soup2.find(id='corePriceDisplay_desktop_feature_div').get_text()\n",
    "    \n",
    "    price = price.replace('\\n', '').replace('\\t', '').replace(' ', '').replace(',', '')\n",
    "\n",
    "    price = price.split('$')[1]\n",
    "\n",
    "    title = title.strip()\n",
    "    \n",
    "    import datetime\n",
    "\n",
    "    today = datetime.date.today()\n",
    " \n",
    "    import csv\n",
    "    header = ['Title', 'Price', 'Date']\n",
    "    data = [title, price, today]\n",
    "    \n",
    "    with open('AmazonWebScraperDataSet.csv', 'a+', newline ='', encoding='UTF8') as f:\n",
    "        writer = csv.writer(f)\n",
    "        writer.writerow(data)\n",
    "    "
   ]
  },
  {
   "cell_type": "code",
   "execution_count": 23,
   "id": "d5dd7c39",
   "metadata": {},
   "outputs": [
    {
     "ename": "TypeError",
     "evalue": "check_price() takes 0 positional arguments but 1 was given",
     "output_type": "error",
     "traceback": [
      "\u001b[1;31m---------------------------------------------------------------------------\u001b[0m",
      "\u001b[1;31mTypeError\u001b[0m                                 Traceback (most recent call last)",
      "Cell \u001b[1;32mIn[23], line 4\u001b[0m\n\u001b[0;32m      1\u001b[0m \u001b[38;5;66;03m#runs price after a set time and inputs that data into the CSV\u001b[39;00m\n\u001b[0;32m      3\u001b[0m \u001b[38;5;28;01mwhile\u001b[39;00m(\u001b[38;5;28;01mTrue\u001b[39;00m):\n\u001b[1;32m----> 4\u001b[0m     \u001b[43mcheck_price\u001b[49m\u001b[43m(\u001b[49m\u001b[38;5;241;43m86400\u001b[39;49m\u001b[43m)\u001b[49m\n\u001b[0;32m      5\u001b[0m     time\u001b[38;5;241m.\u001b[39msleep\n",
      "\u001b[1;31mTypeError\u001b[0m: check_price() takes 0 positional arguments but 1 was given"
     ]
    }
   ],
   "source": [
    "#runs price after a set time and inputs that data into the CSV\n",
    "\n",
    "while(True):\n",
    "    check_price(86400)\n",
    "    time.sleep\n"
   ]
  },
  {
   "cell_type": "code",
   "execution_count": 25,
   "id": "f50b09e9",
   "metadata": {
    "scrolled": true
   },
   "outputs": [
    {
     "name": "stdout",
     "output_type": "stream",
     "text": [
      "   Funny Got Data MIS Data Systems Business Analyst T-Shirt  16.99  2023-06-15\n",
      "0   Funny Got Data MIS Data Systems Business Analy...        16.99  2023-06-15\n",
      "1   Funny Got Data MIS Data Systems Business Analy...        16.99  2023-06-15\n",
      "2   Funny Got Data MIS Data Systems Business Analy...        16.99  2023-06-15\n",
      "3   Funny Got Data MIS Data Systems Business Analy...        16.99  2023-06-15\n",
      "4   Funny Got Data MIS Data Systems Business Analy...        16.99  2023-06-15\n",
      "5   Funny Got Data MIS Data Systems Business Analy...        16.99  2023-06-15\n",
      "6   Funny Got Data MIS Data Systems Business Analy...        16.99  2023-06-15\n",
      "7   Funny Got Data MIS Data Systems Business Analy...        16.99  2023-06-15\n",
      "8   Funny Got Data MIS Data Systems Business Analy...        16.99  2023-06-15\n",
      "9   Funny Got Data MIS Data Systems Business Analy...        16.99  2023-06-15\n",
      "10  Funny Got Data MIS Data Systems Business Analy...        16.99  2023-06-15\n",
      "11  Funny Got Data MIS Data Systems Business Analy...        16.99  2023-06-15\n",
      "12  Funny Got Data MIS Data Systems Business Analy...        16.99  2023-06-15\n",
      "13  Funny Got Data MIS Data Systems Business Analy...        16.99  2023-06-15\n",
      "14  Funny Got Data MIS Data Systems Business Analy...        16.99  2023-06-15\n",
      "15  Funny Got Data MIS Data Systems Business Analy...        16.99  2023-06-15\n",
      "16  Funny Got Data MIS Data Systems Business Analy...        16.99  2023-06-15\n",
      "17  Funny Got Data MIS Data Systems Business Analy...        16.99  2023-06-15\n"
     ]
    }
   ],
   "source": [
    "import pandas as pd\n",
    "df = pd.read_csv(r'C:\\Users\\klbai\\AmazonWebScraperDataSet.csv')\n",
    "print(df)"
   ]
  },
  {
   "cell_type": "code",
   "execution_count": 26,
   "id": "36ce0036",
   "metadata": {},
   "outputs": [],
   "source": [
    "# Sending myself an email  when a price hits below a certain level for Amazon Prime Day\n",
    "\n",
    "def send_mail():\n",
    "    server = smtplib.SMTP_SSL('smtp.gmail.com',465)\n",
    "    server.ehlo()\n",
    "    #server.starttls()\n",
    "    server.ehlo()\n",
    "    server.login('klbailey.k@gmail.com','xxxxxxxxxxxxxx')\n",
    "    \n",
    "    subject = \"The Shirt you want is below $15! Now is your chance to buy!\"\n",
    "    body = \"Kathy, This is the moment we have been waiting for. Pick up the shirt of your dreams. Woo Hoo. Link here: https://www.amazon.com/Funny-Data-Systems-Business-Analyst/dp/B07FNW9FGJ/ref=sr_1_3?dchild=1&keywords=data+analyst+tshirt&qid=1626655184&sr=8-3\"\n",
    "   \n",
    "    msg = f\"Subject: {subject}\\n\\n{body}\"\n",
    "    \n",
    "    server.sendmail(\n",
    "        'klbailey.k@gmail.com',\n",
    "        msg\n",
    "     \n",
    "    )"
   ]
  },
  {
   "cell_type": "code",
   "execution_count": null,
   "id": "0992fcfd",
   "metadata": {},
   "outputs": [],
   "source": []
  }
 ],
 "metadata": {
  "kernelspec": {
   "display_name": "Python 3 (ipykernel)",
   "language": "python",
   "name": "python3"
  },
  "language_info": {
   "codemirror_mode": {
    "name": "ipython",
    "version": 3
   },
   "file_extension": ".py",
   "mimetype": "text/x-python",
   "name": "python",
   "nbconvert_exporter": "python",
   "pygments_lexer": "ipython3",
   "version": "3.10.9"
  }
 },
 "nbformat": 4,
 "nbformat_minor": 5
}
